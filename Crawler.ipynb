{
  "nbformat": 4,
  "nbformat_minor": 0,
  "metadata": {
    "colab": {
      "name": "Crawler.ipynb",
      "provenance": [],
      "authorship_tag": "ABX9TyPUUAmY2DDCV/CQtndyY2/A"
    },
    "kernelspec": {
      "name": "python3",
      "display_name": "Python 3"
    },
    "language_info": {
      "name": "python"
    }
  },
  "cells": [
    {
      "cell_type": "code",
      "source": [
        "#Bibliotecas utilizadas\n",
        "import requests\n",
        "import re\n",
        "from bs4 import BeautifulSoup\n",
        "import pandas as pd\n",
        "from nltk.corpus import stopwords\n",
        "import nltk"
      ],
      "metadata": {
        "id": "xUNSxOV3FT33"
      },
      "execution_count": 7,
      "outputs": []
    },
    {
      "cell_type": "code",
      "source": [
        "#Url a ser extraído e identificador\n",
        "url = 'https://www.reclameaqui.com.br/empresa/claro/lista-reclamacoes/'\n",
        "headers = {'User-Agent':'Mozilla/5.0 (X11; Linux x86_64; rv:102.0) Gecko/20100101 Firefox/102.0'}"
      ],
      "metadata": {
        "id": "XXIsaEVujByU"
      },
      "execution_count": 45,
      "outputs": []
    },
    {
      "cell_type": "code",
      "source": [
        "nltk.download('stopwords')\n",
        "stopwords = nltk.corpus.stopwords.words('portuguese')\n",
        "type(stopwords)"
      ],
      "metadata": {
        "id": "qDRLMucxXpNd"
      },
      "execution_count": null,
      "outputs": []
    },
    {
      "cell_type": "code",
      "source": [
        "def nuvem(text):\n",
        "  text = text.split()\n",
        "  c = collections.Counter(text)\n",
        "  lista = []\n",
        "  for x in c:\n",
        "    if x not in stopwords:\n",
        "      lista.append(x)\n",
        "    else:\n",
        "      pass\n",
        "  nuvem_c = collections.Counter(lista).most_common(15)\n",
        "  return [x[0] for x in nuvem_c]"
      ],
      "metadata": {
        "id": "Vl9ften31MS6"
      },
      "execution_count": 43,
      "outputs": []
    },
    {
      "cell_type": "code",
      "source": [
        "site = requests.get(url, headers=headers)\n",
        "soup = BeautifulSoup(site.content, 'html.parser')"
      ],
      "metadata": {
        "id": "EmohH-jVIYDL"
      },
      "execution_count": 46,
      "outputs": []
    },
    {
      "cell_type": "code",
      "source": [
        "for i in range(1, 2):\n",
        "    url_pag = f\"https://www.reclameaqui.com.br/empresa/claro/lista-reclamacoes/?pagina={i}\"\n",
        "    site = requests.get(url_pag, headers=headers)\n",
        "    soup = BeautifulSoup(site.content, 'html.parser')\n",
        "    reclamacoes = soup.find_all('div', class_=re.compile('bJdtis'))\n",
        "\n",
        "    for classe in reclamacoes:\n",
        "\n",
        "        link = classe.find('a')['href']\n",
        "        url_href = f\"https://www.reclameaqui.com.br{link}\"\n",
        "        rec = {'reclamação': url_href}\n",
        "\n",
        "\n",
        "        def topicos():\n",
        "            tag = []\n",
        "            for _ in sopa.find_all('div', class_='eYkobe'):\n",
        "                x = _.get_text().strip()\n",
        "                tag.append(x)\n",
        "            return list(set(tag))\n",
        "\n",
        "        for value in rec.values():\n",
        "            site2 = requests.get(value, headers=headers)\n",
        "            sopa = BeautifulSoup(site2.content, 'html.parser')\n",
        "            tags = topicos()\n",
        "            titulo = sopa.find('h1', class_=re.compile('berwWw')).get_text().strip()\n",
        "            texto = sopa.find('p', class_=re.compile('fXwQIB')).get_text().strip()\n",
        "            texto_c = nuvem(texto)\n",
        "            print(\"titulo: \",titulo)\n",
        "            print(\"tags: \",tags)\n",
        "            print(\"resumo: \",texto_c)\n",
        "            print(\"link: \", url_href)\n",
        "            print(\" \")\n",
        "    \n"
      ],
      "metadata": {
        "colab": {
          "base_uri": "https://localhost:8080/"
        },
        "id": "5A96_WD4ja02",
        "outputId": "792a7d51-8a5b-4c8c-9c37-7f5f388904ea"
      },
      "execution_count": 52,
      "outputs": [
        {
          "output_type": "stream",
          "name": "stdout",
          "text": [
            "titulo:  COBRANÇA INDEVIDA\n",
            "tags:  ['Telefonia fixa', 'Cobrança indevida', 'Claro']\n",
            "resumo:  ['TENHO', 'UM', 'PLANO', 'COM', 'A', 'CLARO', 'DE', 'LIGAÇÃO', 'ILIMITADA', 'E', 'ESSE', 'MÊS', 'MINHA', 'FATURA', 'VEIO']\n",
            "link:  https://www.reclameaqui.com.br/claro/cobranca-indevida_CO7vr23JMmZKcdUf\n",
            " \n",
            "titulo:  Todo dia me ligam com proposta para mim alterar meu plano!\n",
            "tags:  ['Planos pós-pagos', 'Claro', 'Telefonia celular', 'Mau atendimento do prestador de serviço']\n",
            "resumo:  ['Todo', 'dia', 'ligam', 'proposta', 'mim', 'alterar', 'plano,', 'vem', 'ocorrendo', 'diariamente', '(dia', 'todo)', 'faz', 'mês..já', 'falei']\n",
            "link:  https://www.reclameaqui.com.br/claro/todo-dia-me-ligam-com-proposta-para-mim-alterar-meu-plano_n_hl46SPlZlYsNss\n",
            " \n",
            "titulo:  Não conecta\n",
            "tags:  ['Provedores e serv. de internet', 'Cobrança indevida', 'Claro', 'Internet para casa']\n",
            "resumo:  ['Meu', 'marido', 'contratou', 'serviços', 'Net', 'Claro,', 'pois', 'mesma', 'consegue', 'manter', 'conexão', 'local', 'ainda', 'cobrado', 'abusivamente']\n",
            "link:  https://www.reclameaqui.com.br/claro/nao-conecta_rCrS16ahDtjttErK\n",
            " \n",
            "titulo:  Valor do Contrato via Whatsapp com a NetClaro não Cumprido pela Operadora\n",
            "tags:  ['Provedores e serv. de internet', 'Cobrança indevida', 'Claro', 'Internet para casa']\n",
            "resumo:  ['O', 'valor', 'mensal', 'plano', 'contratei', 'via', 'whatsapp', '(21-99761-4343)', '02/03/2022', '(18:43h)', 'R$124,99', 'R$145,94', 'R$150,23', 'veio', 'fatura']\n",
            "link:  https://www.reclameaqui.com.br/claro/valor-do-contrato-via-whatsapp-com-a-netclaro-nao-cumprido-pela-operadora_wZlt5sz-jUMex5he\n",
            " \n",
            "titulo:  Problema com valor cobrado indevido\n",
            "tags:  ['Problema durante-após a atualização', 'Smartphone', 'Claro', 'Celulares e Smartphones']\n",
            "resumo:  ['Tenho', 'plano', 'Claro', 'tempo.', 'E', 'dia', '18.05', 'recebi', 'ligação', 'central', 'vendar', 'oferecendo', 'melhorias', ',', 'aumento']\n",
            "link:  https://www.reclameaqui.com.br/claro/problema-com-valor-cobrado-indevido_99qeLcM7ldkzjfk3\n",
            " \n",
            "titulo:  Sem internet desde dia 14\n",
            "tags:  ['Não conecta à internet', 'Claro', 'Celular', 'Celulares e Smartphones']\n",
            "resumo:  ['Desde', 'dia', '14', 'julho', 'internet', 'funciona', 'dados', 'móveis', 'aparecem', 'celular', 'liguei', 'empresa', 'diversas', 'vezes', 'fiz']\n",
            "link:  https://www.reclameaqui.com.br/claro/sem-internet-desde-dia-14_hPFyXMkb_KTiCEig\n",
            " \n",
            "titulo:  Troca de titulariadade\n",
            "tags:  ['Planos pós-pagos', 'Claro', 'Telefonia celular', 'Mudança de plano']\n",
            "resumo:  ['Estou', 'saga', 'trocar', 'titularidade', 'Claro.', 'Meu', 'tio,', 'pai,', 'contratou', 'plano', 'Combo', 'claro', 'incluia', 'celular,', 'tia,']\n",
            "link:  https://www.reclameaqui.com.br/claro/troca-de-titulariadade_4C0PJflr52BpRdmZ\n",
            " \n",
            "titulo:  Pagamento efetuado em 04/2022 e consta em aberto.\n",
            "tags:  ['Planos pós-pagos', 'Cobrança indevida', 'Telefonia celular', 'Claro']\n",
            "resumo:  ['Estou', 'super', 'insatisfeita', 'atendimento', 'Claro.', 'Efetuei', 'pagamento', 'claro', 'móvel', 'dia', '09/04/2022', 'via', 'cartão', 'crédito.', 'Já']\n",
            "link:  https://www.reclameaqui.com.br/claro/pagamento-efetuado-em-04-2022-e-consta-em-aberto_rZoyTS3PI77zegoH\n",
            " \n",
            "titulo:  Internet ja cancelada ha 3 meses segue sendo cobrada em fatura\n",
            "tags:  ['Claro', 'Cobrança indevida', 'Não encontrei meu problema', 'Internet para casa']\n",
            "resumo:  ['Em', 'fevereiro', 'desse', 'ano', 'feito', 'cancelamento', 'internet', 'pacote', 'claro', '(sigo', 'tv).', 'Desde', 'então', 'seguem', 'efetuando']\n",
            "link:  https://www.reclameaqui.com.br/claro/internet-ja-cancelada-ha-3-meses-segue-sendo-cobrada-em-fatura_lzKQbJziEcshy1X7\n",
            " \n",
            "titulo:  Atendimento ruim e sem resolução!!!!\n",
            "tags:  ['Planos pós-pagos', 'Claro', 'Telefonia celular', 'Mudança de plano']\n",
            "resumo:  ['No', 'dia', '22/7', 'liguei', 'Claro', 'trocar', 'plano', 'atual', 'PÓS', 'SMART', '55GB', '80,00', 'incluindo', 'roaming', 'internacional.']\n",
            "link:  https://www.reclameaqui.com.br/claro/atendimento-ruim-e-sem-resolucao_hUt82LPgEH5NX9Iq\n",
            " \n"
          ]
        }
      ]
    },
    {
      "cell_type": "code",
      "source": [
        ""
      ],
      "metadata": {
        "id": "rwOa9WWUj1ho"
      },
      "execution_count": null,
      "outputs": []
    }
  ]
}